{
 "cells": [
  {
   "cell_type": "markdown",
   "metadata": {},
   "source": [
    "<!-- #Here is my new ML Project based on Stock price of S and P.\n",
    "#Different ML models will be used for data analysis and visualization.\n",
    "#Programming Language: Python\n",
    "#IDE: VSCode\n",
    "#Dataset: Sand P500.csv (Kaggle.com)\n",
    " -->\n"
   ]
  },
  {
   "cell_type": "code",
   "execution_count": 10,
   "metadata": {},
   "outputs": [],
   "source": [
    "#Import all the important libraries\n",
    "import pandas as pd\n",
    "import numpy as np\n",
    "from sklearn import linear_model\n",
    "from scipy import stats\n",
    "from sklearn.metrics import r2_score\n",
    "import matplotlib.pyplot as plt\n",
    "from sklearn.preprocessing import StandardScaler\n",
    "from sklearn.preprocessing import LabelEncoder\n",
    "from sklearn.metrics import accuracy_score\n",
    "from sklearn.model_selection import train_test_split\n",
    "from sklearn.metrics import mean_squared_error, mean_absolute_error\n",
    "import xgboost as xgb\n",
    "from xgboost import XGBRegressor, DMatrix, train\n",
    "import lightgbm as lgb\n",
    "from sklearn.ensemble import RandomForestRegressor\n",
    "import plotly.express as px"
   ]
  },
  {
   "cell_type": "markdown",
   "metadata": {},
   "source": [
    "<!-- 1. Understanding the data set and cleaning the dataset -->"
   ]
  },
  {
   "cell_type": "code",
   "execution_count": 18,
   "metadata": {},
   "outputs": [
    {
     "name": "stdout",
     "output_type": "stream",
     "text": [
      "  Exchange Symbol              Shortname               Longname   \n",
      "0      NMS   AAPL             Apple Inc.             Apple Inc.  \\\n",
      "1      NMS   NVDA     NVIDIA Corporation     NVIDIA Corporation   \n",
      "2      NMS   MSFT  Microsoft Corporation  Microsoft Corporation   \n",
      "3      NMS   AMZN       Amazon.com, Inc.       Amazon.com, Inc.   \n",
      "4      NMS  GOOGL          Alphabet Inc.          Alphabet Inc.   \n",
      "\n",
      "                   Sector                        Industry  Currentprice   \n",
      "0              Technology            Consumer Electronics        247.77  \\\n",
      "1              Technology                  Semiconductors        135.07   \n",
      "2              Technology       Software - Infrastructure        443.33   \n",
      "3       Consumer Cyclical                 Internet Retail        225.04   \n",
      "4  Communication Services  Internet Content & Information        185.17   \n",
      "\n",
      "       Marketcap        Ebitda  Revenuegrowth           City State   \n",
      "0  3745241628672  1.346610e+11          0.061      Cupertino    CA  \\\n",
      "1  3307864588288  6.118400e+10          1.224    Santa Clara    CA   \n",
      "2  3296105332736  1.365520e+11          0.160        Redmond    WA   \n",
      "3  2366295506944  1.115830e+11          0.110        Seattle    WA   \n",
      "4  2276776214528  1.234700e+11          0.151  Mountain View    CA   \n",
      "\n",
      "         Country  Fulltimeemployees   \n",
      "0  United States           164000.0  \\\n",
      "1  United States            29600.0   \n",
      "2  United States           228000.0   \n",
      "3  United States          1551000.0   \n",
      "4  United States           181269.0   \n",
      "\n",
      "                                 Longbusinesssummary    Weight  \n",
      "0  Apple Inc. designs, manufactures, and markets ...  0.066343  \n",
      "1  NVIDIA Corporation provides graphics and compu...  0.058595  \n",
      "2  Microsoft Corporation develops and supports so...  0.058387  \n",
      "3  Amazon.com, Inc. engages in the retail sale of...  0.041916  \n",
      "4  Alphabet Inc. offers various products and plat...  0.040331  \n",
      "<class 'pandas.core.frame.DataFrame'>\n",
      "RangeIndex: 503 entries, 0 to 502\n",
      "Data columns (total 16 columns):\n",
      " #   Column               Non-Null Count  Dtype  \n",
      "---  ------               --------------  -----  \n",
      " 0   Exchange             503 non-null    object \n",
      " 1   Symbol               503 non-null    object \n",
      " 2   Shortname            503 non-null    object \n",
      " 3   Longname             503 non-null    object \n",
      " 4   Sector               503 non-null    object \n",
      " 5   Industry             503 non-null    object \n",
      " 6   Currentprice         503 non-null    float64\n",
      " 7   Marketcap            503 non-null    int64  \n",
      " 8   Ebitda               474 non-null    float64\n",
      " 9   Revenuegrowth        500 non-null    float64\n",
      " 10  City                 503 non-null    object \n",
      " 11  State                483 non-null    object \n",
      " 12  Country              503 non-null    object \n",
      " 13  Fulltimeemployees    494 non-null    float64\n",
      " 14  Longbusinesssummary  503 non-null    object \n",
      " 15  Weight               503 non-null    float64\n",
      "dtypes: float64(5), int64(1), object(10)\n",
      "memory usage: 63.0+ KB\n",
      "None\n",
      "Index(['Exchange', 'Symbol', 'Shortname', 'Longname', 'Sector', 'Industry',\n",
      "       'Currentprice', 'Marketcap', 'Ebitda', 'Revenuegrowth', 'City', 'State',\n",
      "       'Country', 'Fulltimeemployees', 'Longbusinesssummary', 'Weight'],\n",
      "      dtype='object')\n",
      "float64\n",
      "0      False\n",
      "1      False\n",
      "2      False\n",
      "3      False\n",
      "4      False\n",
      "       ...  \n",
      "498    False\n",
      "499    False\n",
      "500    False\n",
      "501    False\n",
      "502    False\n",
      "Name: Currentprice, Length: 503, dtype: bool\n"
     ]
    }
   ],
   "source": [
    "#Check the rows, columns, datatypes of the dataset\n",
    "\n",
    "df=pd.read_csv(\".\\sp500_companies.csv\")\n",
    "\n",
    "#Here we can get the general view of the dataset\n",
    "print(df.head())\n",
    "print(df.info())\n",
    "print(df.columns)\n",
    "#check the column name data types. Here is an example of Current price\n",
    "print(df.Currentprice.dtype)\n",
    "\n",
    "print(df.Currentprice.duplicated())\n"
   ]
  },
  {
   "cell_type": "markdown",
   "metadata": {},
   "source": [
    "Basic Operations performed: \n",
    "Calculate the important values of Mean, median, Mode\n",
    "1. Mean- The average Value of the current price, \n",
    "2. Median- The midpoint value of the current price, \n",
    "3. Mode: The most common value of the current price  \n",
    "4. Standard Deviation: A number that describes how spread out the values of the current price."
   ]
  },
  {
   "cell_type": "markdown",
   "metadata": {},
   "source": [
    "<!-- # Calculate the important values of Mean, median, Mode\n",
    "1. Mean- The average Value, \n",
    "2. Median- The midpoint value, \n",
    "3. Mode: The most common value  \n",
    "4. Standard Deviation: A number that describes how spread out the values.-->"
   ]
  },
  {
   "cell_type": "code",
   "execution_count": null,
   "metadata": {},
   "outputs": [],
   "source": [
    "#Mean of the current price in the S and P dataset\n",
    "\n",
    "Mean=df['Currentprice'].mean()\n",
    "#The average of the S and P 500 share price\n",
    "print('Mean=',Mean)\n",
    "\n",
    "# The median of the S and P 500 share price\n",
    "Median=df['Currentprice'].median()\n",
    "print('Median=',Median)\n",
    "\n",
    "# The Mode of the S and P 500 share price\n",
    "Mode=df['Currentprice'].mode()\n",
    "print('Mode=',Mode)\n",
    "\n",
    "#The standard deviation of the Current price of the S and P dataset\n",
    "Std=df['Currentprice'].std()\n",
    "print('Standard Deviation=',Std)"
   ]
  },
  {
   "cell_type": "markdown",
   "metadata": {},
   "source": [
    "Machine Learning Models\n",
    "Linear regression. Lets check if there is a positive relation between Current price and Marketcap."
   ]
  },
  {
   "cell_type": "markdown",
   "metadata": {},
   "source": [
    "<!-- Linear regression of the  S and P dataset \n",
    "In order to test out linear regression lets check slope, \n",
    "-->"
   ]
  },
  {
   "cell_type": "code",
   "execution_count": null,
   "metadata": {},
   "outputs": [],
   "source": [
    "current_price=df['Currentprice']\n",
    "Market_cap=df['Marketcap']\n",
    "slope,intercept, r, p, std_err=stats.linregress(current_price,Market_cap)\n",
    "print('Slope=',slope)\n",
    "print('intercept=',intercept)\n",
    "print('r=',r)\n",
    "print(\"p=\",p)\n",
    "print(\"std_err=\",std_err)\n",
    "\n",
    "\n"
   ]
  },
  {
   "cell_type": "markdown",
   "metadata": {},
   "source": [
    "Let us check if this model is appropriate to relation between Current price and market cap."
   ]
  },
  {
   "cell_type": "code",
   "execution_count": null,
   "metadata": {},
   "outputs": [],
   "source": [
    "#Polynomial Regression\n",
    "current_price=df['Currentprice']\n",
    "Market_cap=df['Marketcap']\n",
    "poly_model=np.poly1d(np.polyfit(current_price,Market_cap,3))\n",
    "print(\"Polynomial Regression r2 score=\", r2_score(Market_cap, poly_model(current_price)))"
   ]
  },
  {
   "cell_type": "markdown",
   "metadata": {},
   "source": [
    "Predicting the market capitalization based on current price and sector using linear regression and Label Encoding."
   ]
  },
  {
   "cell_type": "code",
   "execution_count": null,
   "metadata": {},
   "outputs": [],
   "source": [
    "label_encoder=LabelEncoder()\n",
    "df['Sector']=label_encoder.fit_transform(df['Sector'])\n",
    "print(df['Sector'])\n",
    "X=df[['Currentprice','Sector']]\n",
    "Y=df['Marketcap']\n",
    "model=linear_model.LinearRegression()\n",
    "model.fit(X,Y)\n",
    "v1=int(input('enter the current price of the share you wish to invest'))\n",
    "v2=int(input(\"Ener the number for sector\"))\n",
    "\n",
    "prediction=pd.DataFrame([[v1,v2]],columns=['Currentprice','Sector'])\n",
    "prediction_ans=model.predict(prediction)\n",
    "df['Sector']=label_encoder.inverse_transform(df['Sector'])\n",
    "decoded=label_encoder.inverse_transform([v2])[0]\n",
    "print(f\"The predicted market price for the current price of {v1} in the {decoded} industry is: {int(prediction_ans)}\")\n"
   ]
  },
  {
   "cell_type": "markdown",
   "metadata": {},
   "source": [
    "Visualizing the market share distribution of the top 5 technology companies based on market capitalization sector using a pie chart."
   ]
  },
  {
   "cell_type": "code",
   "execution_count": null,
   "metadata": {},
   "outputs": [],
   "source": [
    "Tech_Market=df[df['Sector']=='Technology']\n",
    "top_companies=Tech_Market.nlargest(5, 'Marketcap')\n",
    "top_companies.plot(kind='pie',y='Marketcap',labels=top_companies['Shortname'], autopct='%2.2f%%', figsize=(10, 10), title=\"Market Share of Top Technology Companies\")\n"
   ]
  },
  {
   "cell_type": "markdown",
   "metadata": {},
   "source": [
    "This is a histogram of every sector. This shows that S and P 500 has highest investment in tech companies "
   ]
  },
  {
   "cell_type": "code",
   "execution_count": null,
   "metadata": {},
   "outputs": [
    {
     "data": {
      "application/vnd.plotly.v1+json": {
       "config": {
        "plotlyServerURL": "https://plot.ly"
       },
       "data": [
        {
         "alignmentgroup": "True",
         "hovertemplate": "Sector=%{x}<br>Count=%{text}<extra></extra>",
         "legendgroup": "Technology",
         "marker": {
          "color": "#636efa",
          "pattern": {
           "shape": ""
          }
         },
         "name": "Technology",
         "offsetgroup": "Technology",
         "orientation": "v",
         "showlegend": true,
         "text": [
          82
         ],
         "textposition": "outside",
         "type": "bar",
         "x": [
          "Technology"
         ],
         "xaxis": "x",
         "y": [
          82
         ],
         "yaxis": "y"
        },
        {
         "alignmentgroup": "True",
         "hovertemplate": "Sector=%{x}<br>Count=%{text}<extra></extra>",
         "legendgroup": "Industrials",
         "marker": {
          "color": "#EF553B",
          "pattern": {
           "shape": ""
          }
         },
         "name": "Industrials",
         "offsetgroup": "Industrials",
         "orientation": "v",
         "showlegend": true,
         "text": [
          70
         ],
         "textposition": "outside",
         "type": "bar",
         "x": [
          "Industrials"
         ],
         "xaxis": "x",
         "y": [
          70
         ],
         "yaxis": "y"
        },
        {
         "alignmentgroup": "True",
         "hovertemplate": "Sector=%{x}<br>Count=%{text}<extra></extra>",
         "legendgroup": "Financial Services",
         "marker": {
          "color": "#00cc96",
          "pattern": {
           "shape": ""
          }
         },
         "name": "Financial Services",
         "offsetgroup": "Financial Services",
         "orientation": "v",
         "showlegend": true,
         "text": [
          67
         ],
         "textposition": "outside",
         "type": "bar",
         "x": [
          "Financial Services"
         ],
         "xaxis": "x",
         "y": [
          67
         ],
         "yaxis": "y"
        },
        {
         "alignmentgroup": "True",
         "hovertemplate": "Sector=%{x}<br>Count=%{text}<extra></extra>",
         "legendgroup": "Healthcare",
         "marker": {
          "color": "#ab63fa",
          "pattern": {
           "shape": ""
          }
         },
         "name": "Healthcare",
         "offsetgroup": "Healthcare",
         "orientation": "v",
         "showlegend": true,
         "text": [
          63
         ],
         "textposition": "outside",
         "type": "bar",
         "x": [
          "Healthcare"
         ],
         "xaxis": "x",
         "y": [
          63
         ],
         "yaxis": "y"
        },
        {
         "alignmentgroup": "True",
         "hovertemplate": "Sector=%{x}<br>Count=%{text}<extra></extra>",
         "legendgroup": "Consumer Cyclical",
         "marker": {
          "color": "#FFA15A",
          "pattern": {
           "shape": ""
          }
         },
         "name": "Consumer Cyclical",
         "offsetgroup": "Consumer Cyclical",
         "orientation": "v",
         "showlegend": true,
         "text": [
          55
         ],
         "textposition": "outside",
         "type": "bar",
         "x": [
          "Consumer Cyclical"
         ],
         "xaxis": "x",
         "y": [
          55
         ],
         "yaxis": "y"
        },
        {
         "alignmentgroup": "True",
         "hovertemplate": "Sector=%{x}<br>Count=%{text}<extra></extra>",
         "legendgroup": "Consumer Defensive",
         "marker": {
          "color": "#19d3f3",
          "pattern": {
           "shape": ""
          }
         },
         "name": "Consumer Defensive",
         "offsetgroup": "Consumer Defensive",
         "orientation": "v",
         "showlegend": true,
         "text": [
          37
         ],
         "textposition": "outside",
         "type": "bar",
         "x": [
          "Consumer Defensive"
         ],
         "xaxis": "x",
         "y": [
          37
         ],
         "yaxis": "y"
        },
        {
         "alignmentgroup": "True",
         "hovertemplate": "Sector=%{x}<br>Count=%{text}<extra></extra>",
         "legendgroup": "Utilities",
         "marker": {
          "color": "#FF6692",
          "pattern": {
           "shape": ""
          }
         },
         "name": "Utilities",
         "offsetgroup": "Utilities",
         "orientation": "v",
         "showlegend": true,
         "text": [
          32
         ],
         "textposition": "outside",
         "type": "bar",
         "x": [
          "Utilities"
         ],
         "xaxis": "x",
         "y": [
          32
         ],
         "yaxis": "y"
        },
        {
         "alignmentgroup": "True",
         "hovertemplate": "Sector=%{x}<br>Count=%{text}<extra></extra>",
         "legendgroup": "Real Estate",
         "marker": {
          "color": "#B6E880",
          "pattern": {
           "shape": ""
          }
         },
         "name": "Real Estate",
         "offsetgroup": "Real Estate",
         "orientation": "v",
         "showlegend": true,
         "text": [
          31
         ],
         "textposition": "outside",
         "type": "bar",
         "x": [
          "Real Estate"
         ],
         "xaxis": "x",
         "y": [
          31
         ],
         "yaxis": "y"
        },
        {
         "alignmentgroup": "True",
         "hovertemplate": "Sector=%{x}<br>Count=%{text}<extra></extra>",
         "legendgroup": "Communication Services",
         "marker": {
          "color": "#FF97FF",
          "pattern": {
           "shape": ""
          }
         },
         "name": "Communication Services",
         "offsetgroup": "Communication Services",
         "orientation": "v",
         "showlegend": true,
         "text": [
          22
         ],
         "textposition": "outside",
         "type": "bar",
         "x": [
          "Communication Services"
         ],
         "xaxis": "x",
         "y": [
          22
         ],
         "yaxis": "y"
        },
        {
         "alignmentgroup": "True",
         "hovertemplate": "Sector=%{x}<br>Count=%{text}<extra></extra>",
         "legendgroup": "Energy",
         "marker": {
          "color": "#FECB52",
          "pattern": {
           "shape": ""
          }
         },
         "name": "Energy",
         "offsetgroup": "Energy",
         "orientation": "v",
         "showlegend": true,
         "text": [
          22
         ],
         "textposition": "outside",
         "type": "bar",
         "x": [
          "Energy"
         ],
         "xaxis": "x",
         "y": [
          22
         ],
         "yaxis": "y"
        },
        {
         "alignmentgroup": "True",
         "hovertemplate": "Sector=%{x}<br>Count=%{text}<extra></extra>",
         "legendgroup": "Basic Materials",
         "marker": {
          "color": "#636efa",
          "pattern": {
           "shape": ""
          }
         },
         "name": "Basic Materials",
         "offsetgroup": "Basic Materials",
         "orientation": "v",
         "showlegend": true,
         "text": [
          22
         ],
         "textposition": "outside",
         "type": "bar",
         "x": [
          "Basic Materials"
         ],
         "xaxis": "x",
         "y": [
          22
         ],
         "yaxis": "y"
        }
       ],
       "layout": {
        "barmode": "relative",
        "legend": {
         "title": {
          "text": "Sector"
         },
         "tracegroupgap": 0
        },
        "template": {
         "data": {
          "bar": [
           {
            "error_x": {
             "color": "#2a3f5f"
            },
            "error_y": {
             "color": "#2a3f5f"
            },
            "marker": {
             "line": {
              "color": "white",
              "width": 0.5
             },
             "pattern": {
              "fillmode": "overlay",
              "size": 10,
              "solidity": 0.2
             }
            },
            "type": "bar"
           }
          ],
          "barpolar": [
           {
            "marker": {
             "line": {
              "color": "white",
              "width": 0.5
             },
             "pattern": {
              "fillmode": "overlay",
              "size": 10,
              "solidity": 0.2
             }
            },
            "type": "barpolar"
           }
          ],
          "carpet": [
           {
            "aaxis": {
             "endlinecolor": "#2a3f5f",
             "gridcolor": "#C8D4E3",
             "linecolor": "#C8D4E3",
             "minorgridcolor": "#C8D4E3",
             "startlinecolor": "#2a3f5f"
            },
            "baxis": {
             "endlinecolor": "#2a3f5f",
             "gridcolor": "#C8D4E3",
             "linecolor": "#C8D4E3",
             "minorgridcolor": "#C8D4E3",
             "startlinecolor": "#2a3f5f"
            },
            "type": "carpet"
           }
          ],
          "choropleth": [
           {
            "colorbar": {
             "outlinewidth": 0,
             "ticks": ""
            },
            "type": "choropleth"
           }
          ],
          "contour": [
           {
            "colorbar": {
             "outlinewidth": 0,
             "ticks": ""
            },
            "colorscale": [
             [
              0,
              "#0d0887"
             ],
             [
              0.1111111111111111,
              "#46039f"
             ],
             [
              0.2222222222222222,
              "#7201a8"
             ],
             [
              0.3333333333333333,
              "#9c179e"
             ],
             [
              0.4444444444444444,
              "#bd3786"
             ],
             [
              0.5555555555555556,
              "#d8576b"
             ],
             [
              0.6666666666666666,
              "#ed7953"
             ],
             [
              0.7777777777777778,
              "#fb9f3a"
             ],
             [
              0.8888888888888888,
              "#fdca26"
             ],
             [
              1,
              "#f0f921"
             ]
            ],
            "type": "contour"
           }
          ],
          "contourcarpet": [
           {
            "colorbar": {
             "outlinewidth": 0,
             "ticks": ""
            },
            "type": "contourcarpet"
           }
          ],
          "heatmap": [
           {
            "colorbar": {
             "outlinewidth": 0,
             "ticks": ""
            },
            "colorscale": [
             [
              0,
              "#0d0887"
             ],
             [
              0.1111111111111111,
              "#46039f"
             ],
             [
              0.2222222222222222,
              "#7201a8"
             ],
             [
              0.3333333333333333,
              "#9c179e"
             ],
             [
              0.4444444444444444,
              "#bd3786"
             ],
             [
              0.5555555555555556,
              "#d8576b"
             ],
             [
              0.6666666666666666,
              "#ed7953"
             ],
             [
              0.7777777777777778,
              "#fb9f3a"
             ],
             [
              0.8888888888888888,
              "#fdca26"
             ],
             [
              1,
              "#f0f921"
             ]
            ],
            "type": "heatmap"
           }
          ],
          "heatmapgl": [
           {
            "colorbar": {
             "outlinewidth": 0,
             "ticks": ""
            },
            "colorscale": [
             [
              0,
              "#0d0887"
             ],
             [
              0.1111111111111111,
              "#46039f"
             ],
             [
              0.2222222222222222,
              "#7201a8"
             ],
             [
              0.3333333333333333,
              "#9c179e"
             ],
             [
              0.4444444444444444,
              "#bd3786"
             ],
             [
              0.5555555555555556,
              "#d8576b"
             ],
             [
              0.6666666666666666,
              "#ed7953"
             ],
             [
              0.7777777777777778,
              "#fb9f3a"
             ],
             [
              0.8888888888888888,
              "#fdca26"
             ],
             [
              1,
              "#f0f921"
             ]
            ],
            "type": "heatmapgl"
           }
          ],
          "histogram": [
           {
            "marker": {
             "pattern": {
              "fillmode": "overlay",
              "size": 10,
              "solidity": 0.2
             }
            },
            "type": "histogram"
           }
          ],
          "histogram2d": [
           {
            "colorbar": {
             "outlinewidth": 0,
             "ticks": ""
            },
            "colorscale": [
             [
              0,
              "#0d0887"
             ],
             [
              0.1111111111111111,
              "#46039f"
             ],
             [
              0.2222222222222222,
              "#7201a8"
             ],
             [
              0.3333333333333333,
              "#9c179e"
             ],
             [
              0.4444444444444444,
              "#bd3786"
             ],
             [
              0.5555555555555556,
              "#d8576b"
             ],
             [
              0.6666666666666666,
              "#ed7953"
             ],
             [
              0.7777777777777778,
              "#fb9f3a"
             ],
             [
              0.8888888888888888,
              "#fdca26"
             ],
             [
              1,
              "#f0f921"
             ]
            ],
            "type": "histogram2d"
           }
          ],
          "histogram2dcontour": [
           {
            "colorbar": {
             "outlinewidth": 0,
             "ticks": ""
            },
            "colorscale": [
             [
              0,
              "#0d0887"
             ],
             [
              0.1111111111111111,
              "#46039f"
             ],
             [
              0.2222222222222222,
              "#7201a8"
             ],
             [
              0.3333333333333333,
              "#9c179e"
             ],
             [
              0.4444444444444444,
              "#bd3786"
             ],
             [
              0.5555555555555556,
              "#d8576b"
             ],
             [
              0.6666666666666666,
              "#ed7953"
             ],
             [
              0.7777777777777778,
              "#fb9f3a"
             ],
             [
              0.8888888888888888,
              "#fdca26"
             ],
             [
              1,
              "#f0f921"
             ]
            ],
            "type": "histogram2dcontour"
           }
          ],
          "mesh3d": [
           {
            "colorbar": {
             "outlinewidth": 0,
             "ticks": ""
            },
            "type": "mesh3d"
           }
          ],
          "parcoords": [
           {
            "line": {
             "colorbar": {
              "outlinewidth": 0,
              "ticks": ""
             }
            },
            "type": "parcoords"
           }
          ],
          "pie": [
           {
            "automargin": true,
            "type": "pie"
           }
          ],
          "scatter": [
           {
            "fillpattern": {
             "fillmode": "overlay",
             "size": 10,
             "solidity": 0.2
            },
            "type": "scatter"
           }
          ],
          "scatter3d": [
           {
            "line": {
             "colorbar": {
              "outlinewidth": 0,
              "ticks": ""
             }
            },
            "marker": {
             "colorbar": {
              "outlinewidth": 0,
              "ticks": ""
             }
            },
            "type": "scatter3d"
           }
          ],
          "scattercarpet": [
           {
            "marker": {
             "colorbar": {
              "outlinewidth": 0,
              "ticks": ""
             }
            },
            "type": "scattercarpet"
           }
          ],
          "scattergeo": [
           {
            "marker": {
             "colorbar": {
              "outlinewidth": 0,
              "ticks": ""
             }
            },
            "type": "scattergeo"
           }
          ],
          "scattergl": [
           {
            "marker": {
             "colorbar": {
              "outlinewidth": 0,
              "ticks": ""
             }
            },
            "type": "scattergl"
           }
          ],
          "scattermapbox": [
           {
            "marker": {
             "colorbar": {
              "outlinewidth": 0,
              "ticks": ""
             }
            },
            "type": "scattermapbox"
           }
          ],
          "scatterpolar": [
           {
            "marker": {
             "colorbar": {
              "outlinewidth": 0,
              "ticks": ""
             }
            },
            "type": "scatterpolar"
           }
          ],
          "scatterpolargl": [
           {
            "marker": {
             "colorbar": {
              "outlinewidth": 0,
              "ticks": ""
             }
            },
            "type": "scatterpolargl"
           }
          ],
          "scatterternary": [
           {
            "marker": {
             "colorbar": {
              "outlinewidth": 0,
              "ticks": ""
             }
            },
            "type": "scatterternary"
           }
          ],
          "surface": [
           {
            "colorbar": {
             "outlinewidth": 0,
             "ticks": ""
            },
            "colorscale": [
             [
              0,
              "#0d0887"
             ],
             [
              0.1111111111111111,
              "#46039f"
             ],
             [
              0.2222222222222222,
              "#7201a8"
             ],
             [
              0.3333333333333333,
              "#9c179e"
             ],
             [
              0.4444444444444444,
              "#bd3786"
             ],
             [
              0.5555555555555556,
              "#d8576b"
             ],
             [
              0.6666666666666666,
              "#ed7953"
             ],
             [
              0.7777777777777778,
              "#fb9f3a"
             ],
             [
              0.8888888888888888,
              "#fdca26"
             ],
             [
              1,
              "#f0f921"
             ]
            ],
            "type": "surface"
           }
          ],
          "table": [
           {
            "cells": {
             "fill": {
              "color": "#EBF0F8"
             },
             "line": {
              "color": "white"
             }
            },
            "header": {
             "fill": {
              "color": "#C8D4E3"
             },
             "line": {
              "color": "white"
             }
            },
            "type": "table"
           }
          ]
         },
         "layout": {
          "annotationdefaults": {
           "arrowcolor": "#2a3f5f",
           "arrowhead": 0,
           "arrowwidth": 1
          },
          "autotypenumbers": "strict",
          "coloraxis": {
           "colorbar": {
            "outlinewidth": 0,
            "ticks": ""
           }
          },
          "colorscale": {
           "diverging": [
            [
             0,
             "#8e0152"
            ],
            [
             0.1,
             "#c51b7d"
            ],
            [
             0.2,
             "#de77ae"
            ],
            [
             0.3,
             "#f1b6da"
            ],
            [
             0.4,
             "#fde0ef"
            ],
            [
             0.5,
             "#f7f7f7"
            ],
            [
             0.6,
             "#e6f5d0"
            ],
            [
             0.7,
             "#b8e186"
            ],
            [
             0.8,
             "#7fbc41"
            ],
            [
             0.9,
             "#4d9221"
            ],
            [
             1,
             "#276419"
            ]
           ],
           "sequential": [
            [
             0,
             "#0d0887"
            ],
            [
             0.1111111111111111,
             "#46039f"
            ],
            [
             0.2222222222222222,
             "#7201a8"
            ],
            [
             0.3333333333333333,
             "#9c179e"
            ],
            [
             0.4444444444444444,
             "#bd3786"
            ],
            [
             0.5555555555555556,
             "#d8576b"
            ],
            [
             0.6666666666666666,
             "#ed7953"
            ],
            [
             0.7777777777777778,
             "#fb9f3a"
            ],
            [
             0.8888888888888888,
             "#fdca26"
            ],
            [
             1,
             "#f0f921"
            ]
           ],
           "sequentialminus": [
            [
             0,
             "#0d0887"
            ],
            [
             0.1111111111111111,
             "#46039f"
            ],
            [
             0.2222222222222222,
             "#7201a8"
            ],
            [
             0.3333333333333333,
             "#9c179e"
            ],
            [
             0.4444444444444444,
             "#bd3786"
            ],
            [
             0.5555555555555556,
             "#d8576b"
            ],
            [
             0.6666666666666666,
             "#ed7953"
            ],
            [
             0.7777777777777778,
             "#fb9f3a"
            ],
            [
             0.8888888888888888,
             "#fdca26"
            ],
            [
             1,
             "#f0f921"
            ]
           ]
          },
          "colorway": [
           "#636efa",
           "#EF553B",
           "#00cc96",
           "#ab63fa",
           "#FFA15A",
           "#19d3f3",
           "#FF6692",
           "#B6E880",
           "#FF97FF",
           "#FECB52"
          ],
          "font": {
           "color": "#2a3f5f"
          },
          "geo": {
           "bgcolor": "white",
           "lakecolor": "white",
           "landcolor": "white",
           "showlakes": true,
           "showland": true,
           "subunitcolor": "#C8D4E3"
          },
          "hoverlabel": {
           "align": "left"
          },
          "hovermode": "closest",
          "mapbox": {
           "style": "light"
          },
          "paper_bgcolor": "white",
          "plot_bgcolor": "white",
          "polar": {
           "angularaxis": {
            "gridcolor": "#EBF0F8",
            "linecolor": "#EBF0F8",
            "ticks": ""
           },
           "bgcolor": "white",
           "radialaxis": {
            "gridcolor": "#EBF0F8",
            "linecolor": "#EBF0F8",
            "ticks": ""
           }
          },
          "scene": {
           "xaxis": {
            "backgroundcolor": "white",
            "gridcolor": "#DFE8F3",
            "gridwidth": 2,
            "linecolor": "#EBF0F8",
            "showbackground": true,
            "ticks": "",
            "zerolinecolor": "#EBF0F8"
           },
           "yaxis": {
            "backgroundcolor": "white",
            "gridcolor": "#DFE8F3",
            "gridwidth": 2,
            "linecolor": "#EBF0F8",
            "showbackground": true,
            "ticks": "",
            "zerolinecolor": "#EBF0F8"
           },
           "zaxis": {
            "backgroundcolor": "white",
            "gridcolor": "#DFE8F3",
            "gridwidth": 2,
            "linecolor": "#EBF0F8",
            "showbackground": true,
            "ticks": "",
            "zerolinecolor": "#EBF0F8"
           }
          },
          "shapedefaults": {
           "line": {
            "color": "#2a3f5f"
           }
          },
          "ternary": {
           "aaxis": {
            "gridcolor": "#DFE8F3",
            "linecolor": "#A2B1C6",
            "ticks": ""
           },
           "baxis": {
            "gridcolor": "#DFE8F3",
            "linecolor": "#A2B1C6",
            "ticks": ""
           },
           "bgcolor": "white",
           "caxis": {
            "gridcolor": "#DFE8F3",
            "linecolor": "#A2B1C6",
            "ticks": ""
           }
          },
          "title": {
           "x": 0.05
          },
          "xaxis": {
           "automargin": true,
           "gridcolor": "#EBF0F8",
           "linecolor": "#EBF0F8",
           "ticks": "",
           "title": {
            "standoff": 15
           },
           "zerolinecolor": "#EBF0F8",
           "zerolinewidth": 2
          },
          "yaxis": {
           "automargin": true,
           "gridcolor": "#EBF0F8",
           "linecolor": "#EBF0F8",
           "ticks": "",
           "title": {
            "standoff": 15
           },
           "zerolinecolor": "#EBF0F8",
           "zerolinewidth": 2
          }
         }
        },
        "title": {
         "text": "Histogram of Sector Counts"
        },
        "xaxis": {
         "anchor": "y",
         "categoryarray": [
          "Technology",
          "Industrials",
          "Financial Services",
          "Healthcare",
          "Consumer Cyclical",
          "Consumer Defensive",
          "Utilities",
          "Real Estate",
          "Communication Services",
          "Energy",
          "Basic Materials"
         ],
         "categoryorder": "array",
         "domain": [
          0,
          1
         ],
         "title": {
          "text": "Sector"
         }
        },
        "yaxis": {
         "anchor": "x",
         "domain": [
          0,
          1
         ],
         "title": {
          "text": "Count"
         }
        }
       }
      }
     },
     "metadata": {},
     "output_type": "display_data"
    }
   ],
   "source": [
    "sector_counts = df['Sector'].value_counts().reset_index()\n",
    "\n",
    "sector_counts.columns = ['Sector', 'Count']\n",
    "\n",
    "# Create a histogram for the sectors\n",
    "fig = px.bar(\n",
    "    sector_counts, \n",
    "    x='Sector', \n",
    "    y='Count', \n",
    "    title='Histogram of number of companies in every sector which are part of S and P', \n",
    "    text='Count', \n",
    "    color='Sector', \n",
    "    labels={'Sector': 'Sector', 'Count': 'Count'}\n",
    ")\n",
    "\n",
    "\n",
    "fig.update_traces(textposition='outside')\n",
    "fig.update_layout(template='plotly_white', xaxis_title='Sector', yaxis_title='Count')\n",
    "\n",
    "fig.show()"
   ]
  },
  {
   "cell_type": "markdown",
   "metadata": {},
   "source": [
    "XGBoost Model"
   ]
  },
  {
   "cell_type": "code",
   "execution_count": 9,
   "metadata": {},
   "outputs": [
    {
     "name": "stdout",
     "output_type": "stream",
     "text": [
      "117472.08435869127\n",
      "158.0658023773678\n"
     ]
    }
   ],
   "source": [
    "X=df['Marketcap'].values.astype('int').reshape(-1, 1)\n",
    "Y=df['Currentprice'].values.astype('int').reshape(-1, 1)\n",
    "X_train, X_test, y_train, y_test = train_test_split(X,Y, test_size=0.25, random_state=0)\n",
    "xgb_train = xgb.DMatrix(X_train, y_train, enable_categorical=True)\n",
    "xgb_test = xgb.DMatrix(X_test, y_test, enable_categorical=True)\n",
    "n=50\n",
    "params={\n",
    "    'objective':'reg:squarederror',\n",
    "    'max_depth':5,\n",
    "    'learning_rate':0.1,\n",
    "}\n",
    "\n",
    "model=xgb.train(params=params, dtrain=xgb_train,num_boost_round=n)\n",
    "prediction=model.predict(xgb_test)\n",
    "\n",
    "\n",
    "mse = mean_squared_error(y_test, prediction)\n",
    "mae = mean_absolute_error(y_test, prediction)\n",
    "\n",
    "print(mse)\n",
    "print(mae)\n"
   ]
  },
  {
   "cell_type": "code",
   "execution_count": null,
   "metadata": {},
   "outputs": [],
   "source": []
  }
 ],
 "metadata": {
  "kernelspec": {
   "display_name": "Python 3",
   "language": "python",
   "name": "python3"
  },
  "language_info": {
   "codemirror_mode": {
    "name": "ipython",
    "version": 3
   },
   "file_extension": ".py",
   "mimetype": "text/x-python",
   "name": "python",
   "nbconvert_exporter": "python",
   "pygments_lexer": "ipython3",
   "version": "3.11.3"
  }
 },
 "nbformat": 4,
 "nbformat_minor": 2
}
