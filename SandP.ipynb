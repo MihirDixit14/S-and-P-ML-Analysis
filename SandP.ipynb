{
 "cells": [
  {
   "cell_type": "markdown",
   "metadata": {},
   "source": [
    "<!-- #Here is my new ML Project based on Stock price of S and P.\n",
    "#Different ML models will be used for data analysis and visualization.\n",
    "#Programming Language: Python\n",
    "#IDE: VSCode\n",
    "#Dataset: Sand P500.csv (Kaggle.com)\n",
    " -->\n"
   ]
  },
  {
   "cell_type": "markdown",
   "metadata": {},
   "source": [
    "<!-- 1. Understanding the data set and cleaning the dataset -->"
   ]
  },
  {
   "cell_type": "code",
   "execution_count": 1,
   "metadata": {},
   "outputs": [
    {
     "name": "stdout",
     "output_type": "stream",
     "text": [
      "  Exchange Symbol              Shortname               Longname   \n",
      "0      NMS   AAPL             Apple Inc.             Apple Inc.  \\\n",
      "1      NMS   NVDA     NVIDIA Corporation     NVIDIA Corporation   \n",
      "2      NMS   MSFT  Microsoft Corporation  Microsoft Corporation   \n",
      "3      NMS   AMZN       Amazon.com, Inc.       Amazon.com, Inc.   \n",
      "4      NMS  GOOGL          Alphabet Inc.          Alphabet Inc.   \n",
      "\n",
      "                   Sector                        Industry  Currentprice   \n",
      "0              Technology            Consumer Electronics        247.77  \\\n",
      "1              Technology                  Semiconductors        135.07   \n",
      "2              Technology       Software - Infrastructure        443.33   \n",
      "3       Consumer Cyclical                 Internet Retail        225.04   \n",
      "4  Communication Services  Internet Content & Information        185.17   \n",
      "\n",
      "       Marketcap        Ebitda  Revenuegrowth           City State   \n",
      "0  3745241628672  1.346610e+11          0.061      Cupertino    CA  \\\n",
      "1  3307864588288  6.118400e+10          1.224    Santa Clara    CA   \n",
      "2  3296105332736  1.365520e+11          0.160        Redmond    WA   \n",
      "3  2366295506944  1.115830e+11          0.110        Seattle    WA   \n",
      "4  2276776214528  1.234700e+11          0.151  Mountain View    CA   \n",
      "\n",
      "         Country  Fulltimeemployees   \n",
      "0  United States           164000.0  \\\n",
      "1  United States            29600.0   \n",
      "2  United States           228000.0   \n",
      "3  United States          1551000.0   \n",
      "4  United States           181269.0   \n",
      "\n",
      "                                 Longbusinesssummary    Weight  \n",
      "0  Apple Inc. designs, manufactures, and markets ...  0.066343  \n",
      "1  NVIDIA Corporation provides graphics and compu...  0.058595  \n",
      "2  Microsoft Corporation develops and supports so...  0.058387  \n",
      "3  Amazon.com, Inc. engages in the retail sale of...  0.041916  \n",
      "4  Alphabet Inc. offers various products and plat...  0.040331  \n",
      "<class 'pandas.core.frame.DataFrame'>\n",
      "RangeIndex: 503 entries, 0 to 502\n",
      "Data columns (total 16 columns):\n",
      " #   Column               Non-Null Count  Dtype  \n",
      "---  ------               --------------  -----  \n",
      " 0   Exchange             503 non-null    object \n",
      " 1   Symbol               503 non-null    object \n",
      " 2   Shortname            503 non-null    object \n",
      " 3   Longname             503 non-null    object \n",
      " 4   Sector               503 non-null    object \n",
      " 5   Industry             503 non-null    object \n",
      " 6   Currentprice         503 non-null    float64\n",
      " 7   Marketcap            503 non-null    int64  \n",
      " 8   Ebitda               474 non-null    float64\n",
      " 9   Revenuegrowth        500 non-null    float64\n",
      " 10  City                 503 non-null    object \n",
      " 11  State                483 non-null    object \n",
      " 12  Country              503 non-null    object \n",
      " 13  Fulltimeemployees    494 non-null    float64\n",
      " 14  Longbusinesssummary  503 non-null    object \n",
      " 15  Weight               503 non-null    float64\n",
      "dtypes: float64(5), int64(1), object(10)\n",
      "memory usage: 63.0+ KB\n",
      "None\n",
      "Index(['Exchange', 'Symbol', 'Shortname', 'Longname', 'Sector', 'Industry',\n",
      "       'Currentprice', 'Marketcap', 'Ebitda', 'Revenuegrowth', 'City', 'State',\n",
      "       'Country', 'Fulltimeemployees', 'Longbusinesssummary', 'Weight'],\n",
      "      dtype='object')\n",
      "float64\n",
      "0      False\n",
      "1      False\n",
      "2      False\n",
      "3      False\n",
      "4      False\n",
      "       ...  \n",
      "498    False\n",
      "499    False\n",
      "500    False\n",
      "501    False\n",
      "502    False\n",
      "Name: Currentprice, Length: 503, dtype: bool\n"
     ]
    }
   ],
   "source": [
    "#Import all the important libraries\n",
    "import pandas as pd\n",
    "import numpy as np\n",
    "from sklearn import linear_model\n",
    "from scipy import stats\n",
    "from sklearn.metrics import r2_score\n",
    "#Check the rows, columns, datatypes of the dataset\n",
    "\n",
    "df=pd.read_csv(\".\\sp500_companies.csv\")\n",
    "\n",
    "#Here we can get the general view of the dataset\n",
    "print(df.head())\n",
    "print(df.info())\n",
    "print(df.columns)\n",
    "#check the column name data types. Here is an example of Current price\n",
    "print(df.Currentprice.dtype)\n",
    "\n",
    "print(df.Currentprice.duplicated())\n"
   ]
  },
  {
   "cell_type": "markdown",
   "metadata": {},
   "source": [
    "Basic Operations performed: \n",
    "Calculate the important values of Mean, median, Mode\n",
    "1. Mean- The average Value of the current price, \n",
    "2. Median- The midpoint value of the current price, \n",
    "3. Mode: The most common value of the current price  \n",
    "4. Standard Deviation: A number that describes how spread out the values of the current price."
   ]
  },
  {
   "cell_type": "markdown",
   "metadata": {},
   "source": [
    "<!-- # Calculate the important values of Mean, median, Mode\n",
    "1. Mean- The average Value, \n",
    "2. Median- The midpoint value, \n",
    "3. Mode: The most common value  \n",
    "4. Standard Deviation: A number that describes how spread out the values.-->"
   ]
  },
  {
   "cell_type": "code",
   "execution_count": 2,
   "metadata": {},
   "outputs": [
    {
     "name": "stdout",
     "output_type": "stream",
     "text": [
      "Mean= 227.39732604373756\n",
      "Median= 126.61\n",
      "Mode= 0     31.44\n",
      "1     82.78\n",
      "2     88.55\n",
      "3    157.00\n",
      "Name: Currentprice, dtype: float64\n",
      "Standard Deviation= 514.9047750895471\n"
     ]
    }
   ],
   "source": [
    "#Mean of the current price in the S and P dataset\n",
    "\n",
    "Mean=df['Currentprice'].mean()\n",
    "#The average of the S and P 500 share price\n",
    "print('Mean=',Mean)\n",
    "\n",
    "# The median of the S and P 500 share price\n",
    "Median=df['Currentprice'].median()\n",
    "print('Median=',Median)\n",
    "\n",
    "# The Mode of the S and P 500 share price\n",
    "Mode=df['Currentprice'].mode()\n",
    "print('Mode=',Mode)\n",
    "\n",
    "#The standard deviation of the Current price of the S and P dataset\n",
    "Std=df['Currentprice'].std()\n",
    "print('Standard Deviation=',Std)"
   ]
  },
  {
   "cell_type": "markdown",
   "metadata": {},
   "source": [
    "Machine Learning Models\n",
    "Linear regression. Lets check if there is a positive relation between Current price and Marketcap."
   ]
  },
  {
   "cell_type": "markdown",
   "metadata": {},
   "source": [
    "<!-- Linear regression of the  S and P dataset \n",
    "In order to test out linear regression lets check slope, \n",
    "-->"
   ]
  },
  {
   "cell_type": "code",
   "execution_count": 3,
   "metadata": {},
   "outputs": [
    {
     "name": "stdout",
     "output_type": "stream",
     "text": [
      "Slope= 28922639.682909288\n",
      "intercept= 105655013664.99385\n",
      "r= 0.04374713457372406\n",
      "p= 0.32749414858810966\n",
      "std_err= 29508930.87269322\n"
     ]
    }
   ],
   "source": [
    "current_price=df['Currentprice']\n",
    "Market_cap=df['Marketcap']\n",
    "slope,intercept, r, p, std_err=stats.linregress(current_price,Market_cap)\n",
    "print('Slope=',slope)\n",
    "print('intercept=',intercept)\n",
    "print('r=',r)\n",
    "print(\"p=\",p)\n",
    "print(\"std_err=\",std_err)\n",
    "\n",
    "\n",
    "\n"
   ]
  },
  {
   "cell_type": "markdown",
   "metadata": {},
   "source": [
    "Let us check if this model is appropriate to relation between Current price and market cap."
   ]
  },
  {
   "cell_type": "code",
   "execution_count": 4,
   "metadata": {},
   "outputs": [
    {
     "name": "stdout",
     "output_type": "stream",
     "text": [
      "Polynomial Regression r2 score= 0.021303165069150976\n"
     ]
    }
   ],
   "source": [
    "#Polynomial Regression\n",
    "current_price=df['Currentprice']\n",
    "Market_cap=df['Marketcap']\n",
    "poly_model=np.poly1d(np.polyfit(current_price,Market_cap,3))\n",
    "print(\"Polynomial Regression r2 score=\", r2_score(Market_cap, poly_model(current_price)))"
   ]
  },
  {
   "cell_type": "code",
   "execution_count": null,
   "metadata": {},
   "outputs": [],
   "source": []
  }
 ],
 "metadata": {
  "kernelspec": {
   "display_name": "Python 3",
   "language": "python",
   "name": "python3"
  },
  "language_info": {
   "codemirror_mode": {
    "name": "ipython",
    "version": 3
   },
   "file_extension": ".py",
   "mimetype": "text/x-python",
   "name": "python",
   "nbconvert_exporter": "python",
   "pygments_lexer": "ipython3",
   "version": "3.11.3"
  }
 },
 "nbformat": 4,
 "nbformat_minor": 2
}
