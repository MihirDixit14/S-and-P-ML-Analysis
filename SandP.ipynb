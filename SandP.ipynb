{
 "cells": [
  {
   "cell_type": "markdown",
   "metadata": {},
   "source": [
    "<!-- #Here is my new ML Project based on Stock price of S and P.\n",
    "#Different ML models will be used for data analysis and visualization.\n",
    "#Programming Language: Python\n",
    "#IDE: VSCode\n",
    "#Dataset: Sand P500.csv (Kaggle.com)\n",
    " -->\n"
   ]
  },
  {
   "cell_type": "markdown",
   "metadata": {},
   "source": [
    "<!-- 1. Understanding the data set and cleaning the dataset -->"
   ]
  },
  {
   "cell_type": "code",
   "execution_count": null,
   "metadata": {},
   "outputs": [],
   "source": [
    "#Import all the important libraries\n",
    "import pandas as pd\n",
    "import numpy as np\n",
    "from sklearn import linear_model\n",
    "from scipy import stats\n",
    "#Check the rows, columns, datatypes of the dataset\n",
    "\n",
    "df=pd.read_csv(\".\\sp500_companies.csv\")\n",
    "\n",
    "#Here we can get the general view of the dataset\n",
    "print(df.head())\n",
    "print(df.info())\n",
    "print(df.columns)\n",
    "#check the column name data types. Here is an example of Current price\n",
    "print(df.Currentprice.dtype)\n",
    "\n",
    "print(df.Currentprice.duplicated())\n"
   ]
  },
  {
   "cell_type": "markdown",
   "metadata": {},
   "source": [
    "Basic Operations performed: \n",
    "Calculate the important values of Mean, median, Mode\n",
    "1. Mean- The average Value of the current price, \n",
    "2. Median- The midpoint value of the current price, \n",
    "3. Mode: The most common value of the current price  \n",
    "4. Standard Deviation: A number that describes how spread out the values of the current price."
   ]
  },
  {
   "cell_type": "markdown",
   "metadata": {},
   "source": [
    "<!-- # Calculate the important values of Mean, median, Mode\n",
    "1. Mean- The average Value, \n",
    "2. Median- The midpoint value, \n",
    "3. Mode: The most common value  \n",
    "4. Standard Deviation: A number that describes how spread out the values.-->"
   ]
  },
  {
   "cell_type": "code",
   "execution_count": null,
   "metadata": {},
   "outputs": [],
   "source": [
    "#Mean of the current price in the S and P dataset\n",
    "\n",
    "Mean=df['Currentprice'].mean()\n",
    "#The average of the S and P 500 share price\n",
    "print('Mean=',Mean)\n",
    "\n",
    "# The median of the S and P 500 share price\n",
    "Median=df['Currentprice'].median()\n",
    "print('Median=',Median)\n",
    "\n",
    "# The Mode of the S and P 500 share price\n",
    "Mode=df['Currentprice'].mode()\n",
    "print('Mode=',Mode)\n",
    "\n",
    "#The standard deviation of the Current price of the S and P dataset\n",
    "Std=df['Currentprice'].std()\n",
    "print('Standard Deviation=',Std)"
   ]
  },
  {
   "cell_type": "markdown",
   "metadata": {},
   "source": [
    "Machine Learning Models\n",
    "Linear regression. Lets check if there is a positive relation between Current price and Marketcap."
   ]
  },
  {
   "cell_type": "markdown",
   "metadata": {},
   "source": [
    "<!-- Linear regression of the  S and P dataset \n",
    "In order to test out linear regression lets check slope, \n",
    "-->"
   ]
  },
  {
   "cell_type": "code",
   "execution_count": null,
   "metadata": {},
   "outputs": [],
   "source": [
    "current_price=df['Currentprice']\n",
    "MarketCap=df['Marketcap']\n",
    "slope,intercept, r, p, std_err=stats.linregress(current_price,MarketCap)\n",
    "print('Slope=',slope)\n",
    "print('intercept=',intercept)\n",
    "print('r=',r)\n",
    "\n",
    "\n",
    "\n"
   ]
  }
 ],
 "metadata": {
  "kernelspec": {
   "display_name": "Python 3",
   "language": "python",
   "name": "python3"
  },
  "language_info": {
   "codemirror_mode": {
    "name": "ipython",
    "version": 3
   },
   "file_extension": ".py",
   "mimetype": "text/x-python",
   "name": "python",
   "nbconvert_exporter": "python",
   "pygments_lexer": "ipython3",
   "version": "3.11.3"
  }
 },
 "nbformat": 4,
 "nbformat_minor": 2
}
